{
 "cells": [
  {
   "cell_type": "code",
   "execution_count": null,
   "id": "cfa79013-968e-4ed2-88b4-acb9ba2e01ad",
   "metadata": {},
   "outputs": [],
   "source": [
    "from random import randint\n",
    "import numpy as np\n",
    "\n",
    "import matplotlib.animation as animation\n",
    "from IPython.display import HTML\n",
    "import numpy as np\n",
    "from matplotlib import pyplot as plt"
   ]
  },
  {
   "cell_type": "markdown",
   "id": "1ee9acfb-9747-40c9-b676-d99373c6d748",
   "metadata": {},
   "source": [
    "\n",
    "- [ ] Restart kernel and run all cells\n",
    "- [ ] Clear all output and save the notebook\n",
    "- [ ] Run `!nbqa flake8 boids.ipynb`"
   ]
  },
  {
   "cell_type": "code",
   "execution_count": null,
   "id": "0a7e1431-53f4-4072-bf65-728a33cbd54f",
   "metadata": {},
   "outputs": [],
   "source": [
    "lower = [150, 300]\n",
    "upper = [200,400]\n",
    "\n",
    "positions = []\n",
    "for i in range(10):\n",
    "    positions.append((randint(lower[0], upper[0]), randint(lower[1], upper[1])))\n",
    "    \n"
   ]
  },
  {
   "cell_type": "code",
   "execution_count": null,
   "id": "2a0f38cc-995c-4add-9075-f3e2c5a584ed",
   "metadata": {},
   "outputs": [],
   "source": [
    "lower_v = [-15, -30]\n",
    "upper_v = [20,40]\n",
    "\n",
    "velocities = []\n",
    "for i in range(10):\n",
    "    velocities.append((randint(lower_v[0], upper_v[0]), randint(lower_v[1], upper_v[1])))\n",
    "    \n",
    "velocities"
   ]
  },
  {
   "cell_type": "code",
   "execution_count": null,
   "id": "0c8f6459-257e-435f-b1b7-270a3c04a8ef",
   "metadata": {},
   "outputs": [],
   "source": [
    "from matplotlib import pyplot as plt\n",
    "plt.xlim(0,1000)\n",
    "plt.ylim(0,700)\n",
    "\n",
    "# x_val = [p[0] for p in pos]\n",
    "# y_val = [p[1] for p in pos]\n",
    "\n",
    "\n",
    "# scatter = plt.scatter(positions[0, :], positions[1,:])"
   ]
  },
  {
   "cell_type": "code",
   "execution_count": null,
   "id": "9b546018-d8ec-4f20-888c-03ec048014be",
   "metadata": {},
   "outputs": [],
   "source": [
    "def update_scatter(frames):\n",
    "    for i in range(len(pos)):\n",
    "        positions[i]  =(popositions[i][0] +velocities[i][0],\n",
    "                        positions[i][1] + velocities[i][1])\n",
    "        \n",
    "    scat.set_offsets(positions)"
   ]
  },
  {
   "cell_type": "code",
   "execution_count": null,
   "id": "f9f2a727-5926-48d1-99c0-2322e9c6fde8",
   "metadata": {},
   "outputs": [],
   "source": [
    "import matplotlib.animation as animation\n",
    "from IPython.display import HTML\n",
    "# anim = animation.FuncAnimation(scat.figure, update_scatter, frames=50, interval=50)\n",
    "\n",
    "# HTML(anim.to_jshtml())"
   ]
  },
  {
   "cell_type": "code",
   "execution_count": null,
   "id": "09f35a83-7218-40b5-ad8c-4f3f97e85ec6",
   "metadata": {},
   "outputs": [],
   "source": [
    "def generate_boid_attributes(lower, upper, n=10):\n",
    "    width = upper - lower\n",
    "    attributes = np.random.random_sample(size=(2, n)) * width[:, np.newaxis]\n",
    "    attributes += lower[:, np.newaxis]\n",
    "    return attributes\n",
    "\n",
    "assert generate_boid_attributes(np.array([0, 0]), np.array([1, 1])).shape == (2, 10)\n"
   ]
  },
  {
   "cell_type": "code",
   "execution_count": null,
   "id": "c629684e-07ef-4285-87f7-d68dc74aca88",
   "metadata": {},
   "outputs": [],
   "source": [
    "# !pip install flake8\n",
    "# !pip install nbqa\n",
    "# !nbqa --help"
   ]
  },
  {
   "cell_type": "code",
   "execution_count": null,
   "id": "41831cd6-c339-4df3-8f82-12744a53b9a4",
   "metadata": {},
   "outputs": [],
   "source": [
    "!nbqa flake8 Untitled.ipynb"
   ]
  },
  {
   "cell_type": "code",
   "execution_count": null,
   "id": "7f4489f8-de1f-4ec5-af7b-205d5e513f93",
   "metadata": {},
   "outputs": [],
   "source": [
    "# !pip install black isort"
   ]
  },
  {
   "cell_type": "code",
   "execution_count": null,
   "id": "dce1fede-e407-4313-8017-f7a7bc1810fd",
   "metadata": {},
   "outputs": [],
   "source": [
    "lower_p = np.array([150, 300])  # x-lower, y-lower\n",
    "upper_p = np.array([200, 400])  # x-upper, y-upp\n",
    "\n",
    "positions = generate_boid_attributes(lower_p, upper_p, n=50)\n",
    "positions\n",
    "\n",
    "lower_v = np.array([5, -10])  # x-lower, y-lower\n",
    "upper_v = np.array([15, 5])  # x-upper, y-upp\n",
    "\n",
    "velocities = generate_boid_attributes(lower_v, upper_v, n=50)\n",
    "velocities\n",
    "\n",
    "\n",
    "scatter = plt.scatter(positions[0, :], positions[1,:])\n",
    "\n",
    "plt.xlim(0,1000)\n",
    "plt.ylim(0,700)"
   ]
  },
  {
   "cell_type": "code",
   "execution_count": null,
   "id": "ccc30cb5-c17a-428e-b331-22d0948740b9",
   "metadata": {},
   "outputs": [],
   "source": [
    "def update_boids(positions, velocities):\n",
    "    \"\"\"Updates the boid positions.\"\"\"\n",
    "    positions += velocities\n",
    "\n",
    "\n",
    "def animate(frame):\n",
    "    \"\"\"Updates the scatter plot.\"\"\"\n",
    "    update_boids(positions, velocities)\n",
    "    scatter.set_offsets(positions.transpose())"
   ]
  },
  {
   "cell_type": "code",
   "execution_count": null,
   "id": "3528b1b7-b78b-40af-8913-c3174070253b",
   "metadata": {},
   "outputs": [],
   "source": [
    "anim = animation.FuncAnimation(scatter.figure, animate, frames=50, interval=50)\n",
    "\n",
    "HTML(anim.to_jshtml())"
   ]
  },
  {
   "cell_type": "code",
   "execution_count": null,
   "id": "ce0d8720-4239-4922-b153-ece5157f6d3f",
   "metadata": {},
   "outputs": [],
   "source": [
    "# Create a fresh flock as the old one will have been\n",
    "# modified by the simulation\n",
    "positions = generate_boid_attributes(lower_p, upper_p, n=50)\n",
    "positions\n",
    "\n",
    "velocities = generate_boid_attributes(lower_v, upper_v, n=50)\n",
    "velocities"
   ]
  },
  {
   "cell_type": "code",
   "execution_count": null,
   "id": "8adbbf0e-4fc4-4ee0-9897-6d4e936216db",
   "metadata": {},
   "outputs": [],
   "source": [
    "positions.shape\n",
    "\n",
    "middle = np.mean(positions, axis=1)\n",
    "assert middle.shape == (2,), middle.shape"
   ]
  },
  {
   "cell_type": "code",
   "execution_count": null,
   "id": "02e7905e-38d9-4b10-8568-56780351bd05",
   "metadata": {},
   "outputs": [],
   "source": [
    "# This would be better called \"direction from middle\"\n",
    "direction_to_middle = positions - middle[:,np.newaxis]\n",
    "direction_to_middle"
   ]
  },
  {
   "cell_type": "code",
   "execution_count": null,
   "id": "cae82a82-152b-439c-85e4-f1355d430fd4",
   "metadata": {},
   "outputs": [],
   "source": [
    "def update_boids(positions, velocities):\n",
    "    \"\"\"Updates the boid positions.\n",
    "    \n",
    "    Boids tend towards the middle of the flock.\"\"\"\n",
    "    move_to_middle_strength = 0.1\n",
    "    \n",
    "    # recalculate the value of middle\n",
    "    middle = np.mean(positions, axis=1)\n",
    "    \n",
    "    # recalculate the value of direction_to_middle\n",
    "    direction_to_middle = positions - middle[:,np.newaxis]\n",
    "    \n",
    "    # adjust the velocities\n",
    "    velocities -= direction_to_middle * move_to_middle_strength\n",
    "    \n",
    "    # adjust the positions\n",
    "    positions += velocities\n",
    "\n",
    "test_pos = np.array([[1.0,2.0,3.0],[1.0,2.0,3.0]])\n",
    "test_vel = np.array([[1.0,1.0,1.0],[1.0,1.0,1.0]])\n",
    "\n",
    "update_boids(test_pos, test_vel)\n",
    "\n",
    "expected = np.array([[2.1, 3. , 3.9],\n",
    "                     [2.1, 3. , 3.9]])\n",
    "actual = test_pos\n",
    "\n",
    "np.testing.assert_array_equal(expected, actual)"
   ]
  },
  {
   "cell_type": "code",
   "execution_count": null,
   "id": "68d8784d-23b8-4347-baed-ff7b894fae07",
   "metadata": {},
   "outputs": [],
   "source": [
    "anim = animation.FuncAnimation(scatter.figure, animate, frames=50, interval=50)\n",
    "\n",
    "HTML(anim.to_jshtml())"
   ]
  },
  {
   "cell_type": "code",
   "execution_count": null,
   "id": "09a5bbaf-f68a-4abe-a5c1-d5303bbdfce9",
   "metadata": {},
   "outputs": [],
   "source": []
  }
 ],
 "metadata": {
  "kernelspec": {
   "display_name": "Python 3 (ipykernel)",
   "language": "python",
   "name": "python3"
  },
  "language_info": {
   "codemirror_mode": {
    "name": "ipython",
    "version": 3
   },
   "file_extension": ".py",
   "mimetype": "text/x-python",
   "name": "python",
   "nbconvert_exporter": "python",
   "pygments_lexer": "ipython3",
   "version": "3.9.10"
  }
 },
 "nbformat": 4,
 "nbformat_minor": 5
}
